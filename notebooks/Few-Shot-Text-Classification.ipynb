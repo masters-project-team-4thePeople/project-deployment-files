{
 "cells": [
  {
   "cell_type": "markdown",
   "id": "22fc392f",
   "metadata": {},
   "source": [
    "# Importing Libraries"
   ]
  },
  {
   "cell_type": "code",
   "execution_count": 5,
   "id": "145d5ac3",
   "metadata": {},
   "outputs": [],
   "source": [
    "import numpy as np \n",
    "import pandas as pd\n",
    "import matplotlib.pyplot as plt\n",
    "import seaborn as sns\n",
    "from tqdm import tqdm\n",
    "import json\n",
    "import re \n",
    "from random import shuffle\n",
    "from sklearn.model_selection import train_test_split\n",
    "\n",
    "import warnings\n",
    "warnings.filterwarnings(\"ignore\")"
   ]
  },
  {
   "cell_type": "markdown",
   "id": "7d995e9b",
   "metadata": {},
   "source": [
    "## Reading Dataset"
   ]
  },
  {
   "cell_type": "code",
   "execution_count": 6,
   "id": "71cd5700",
   "metadata": {},
   "outputs": [],
   "source": [
    "video_dataset = pd.read_csv('USvideos.csv')"
   ]
  },
  {
   "cell_type": "code",
   "execution_count": 7,
   "id": "a055a7cf",
   "metadata": {},
   "outputs": [],
   "source": [
    "all_categories = {\n",
    "    \"1\":\"Film & Animation\",\n",
    "    \"2\":\"Autos & Vehicles\",\n",
    "    \"10\":\"Music\",\n",
    "    \"15\":\"Pets & Animals\",\n",
    "    \"17\":\"Sports\",\n",
    "    \"18\":\"Short Movies\",\n",
    "    \"19\":\"Travel & Events\",\n",
    "    \"20\":\"Gaming\",\n",
    "    \"21\":\"Videoblogging\",\n",
    "    \"22\":\"People & Blogs\",\n",
    "    \"23\":\"Comedy\",\n",
    "    \"24\":\"Entertainment\",\n",
    "    \"25\":\"News & Politics\",\n",
    "    \"26\":\"How to & Style\",\n",
    "    \"27\":\"Education\",\n",
    "    \"28\":\"Science & Technology\",\n",
    "    \"29\":\"Nonprofits & Activism\",\n",
    "    \"30\":\"Movies\",\n",
    "    \"31\":\"Anime/Animation\",\n",
    "    \"32\":\"Action/Adventure\",\n",
    "    \"33\":\"Classics\",\n",
    "    \"34\":\"Comedy\",\n",
    "    \"35\":\"Documentary\",\n",
    "    \"36\":\"Drama\",\n",
    "    \"37\":\"Family\",\n",
    "    \"38\":\"Foreign\",\n",
    "    \"39\":\"Horror\",\n",
    "    \"40\":\"Sci-Fi/Fantasy\",\n",
    "    \"41\":\"Thriller\",\n",
    "    \"42\":\"Shorts\",\n",
    "    \"43\":\"Shows\",\n",
    "    \"44\":\"Trailers\"\n",
    "  }"
   ]
  },
  {
   "cell_type": "markdown",
   "id": "8d6c41f9",
   "metadata": {},
   "source": [
    "## Preparing Dataset"
   ]
  },
  {
   "cell_type": "code",
   "execution_count": 8,
   "id": "b2cbe0f8",
   "metadata": {},
   "outputs": [
    {
     "name": "stderr",
     "output_type": "stream",
     "text": [
      "100%|████████████████████████████████████████████████████████████████████████████████████████████████████████████████████████████████████████████████████████████████████████████████████████████████████████████████████████████████████████| 40949/40949 [00:07<00:00, 5580.99it/s]\n"
     ]
    }
   ],
   "source": [
    "video_dataset[\"cateogory_name\"] = \"\"\n",
    " \n",
    "for index, row in tqdm(video_dataset.iterrows(), total=video_dataset.shape[0]):\n",
    "    cat_id = row['category_id']\n",
    "    cat_name = all_categories[str(cat_id)]\n",
    "    video_dataset.at[index,'cateogory_name'] = cat_name"
   ]
  },
  {
   "cell_type": "code",
   "execution_count": 9,
   "id": "298bb5e3",
   "metadata": {},
   "outputs": [],
   "source": [
    "relevant_columns = [\"video_id\", \"title\", \"description\", \"category_id\",\"cateogory_name\"]\n",
    "video_dataset = video_dataset[relevant_columns]"
   ]
  },
  {
   "cell_type": "code",
   "execution_count": 10,
   "id": "b2353f01",
   "metadata": {},
   "outputs": [],
   "source": [
    "RANDOM_SEED = 40\n",
    "df_train, df_test = train_test_split(video_dataset, \n",
    "                                     test_size=0.2, \n",
    "                                     random_state=RANDOM_SEED)"
   ]
  },
  {
   "cell_type": "markdown",
   "id": "cfb56af1",
   "metadata": {},
   "source": [
    "## Few Shot Learning with SetFit"
   ]
  },
  {
   "cell_type": "code",
   "execution_count": 11,
   "id": "fdc65e3c",
   "metadata": {},
   "outputs": [],
   "source": [
    "from setfit import SetFitClassifier"
   ]
  },
  {
   "cell_type": "code",
   "execution_count": 12,
   "id": "ae38697b",
   "metadata": {},
   "outputs": [
    {
     "data": {
      "application/vnd.jupyter.widget-view+json": {
       "model_id": "539fb389cc8d4cfea25b6f182d022214",
       "version_major": 2,
       "version_minor": 0
      },
      "text/plain": [
       "Downloading:   0%|          | 0.00/690 [00:00<?, ?B/s]"
      ]
     },
     "metadata": {},
     "output_type": "display_data"
    },
    {
     "data": {
      "application/vnd.jupyter.widget-view+json": {
       "model_id": "07f9274aafb34781b63a03c13efcec25",
       "version_major": 2,
       "version_minor": 0
      },
      "text/plain": [
       "Downloading:   0%|          | 0.00/190 [00:00<?, ?B/s]"
      ]
     },
     "metadata": {},
     "output_type": "display_data"
    },
    {
     "data": {
      "application/vnd.jupyter.widget-view+json": {
       "model_id": "1a6519a047a44540b3e344ebe39db188",
       "version_major": 2,
       "version_minor": 0
      },
      "text/plain": [
       "Downloading:   0%|          | 0.00/4.01k [00:00<?, ?B/s]"
      ]
     },
     "metadata": {},
     "output_type": "display_data"
    },
    {
     "data": {
      "application/vnd.jupyter.widget-view+json": {
       "model_id": "17be1aa05feb4f7990ae6fd235b26ad9",
       "version_major": 2,
       "version_minor": 0
      },
      "text/plain": [
       "Downloading:   0%|          | 0.00/629 [00:00<?, ?B/s]"
      ]
     },
     "metadata": {},
     "output_type": "display_data"
    },
    {
     "data": {
      "application/vnd.jupyter.widget-view+json": {
       "model_id": "ce4d23fd6d7842568aeb053dfa6d6444",
       "version_major": 2,
       "version_minor": 0
      },
      "text/plain": [
       "Downloading:   0%|          | 0.00/122 [00:00<?, ?B/s]"
      ]
     },
     "metadata": {},
     "output_type": "display_data"
    },
    {
     "data": {
      "application/vnd.jupyter.widget-view+json": {
       "model_id": "899156344ea64fc9b1bae13573df7277",
       "version_major": 2,
       "version_minor": 0
      },
      "text/plain": [
       "Downloading:   0%|          | 0.00/69.6M [00:00<?, ?B/s]"
      ]
     },
     "metadata": {},
     "output_type": "display_data"
    },
    {
     "data": {
      "application/vnd.jupyter.widget-view+json": {
       "model_id": "82f356be5cf4470e96a4e90c45e5c71d",
       "version_major": 2,
       "version_minor": 0
      },
      "text/plain": [
       "Downloading:   0%|          | 0.00/53.0 [00:00<?, ?B/s]"
      ]
     },
     "metadata": {},
     "output_type": "display_data"
    },
    {
     "data": {
      "application/vnd.jupyter.widget-view+json": {
       "model_id": "280f8e9537b44b5c8bfb01ebcdfac2c3",
       "version_major": 2,
       "version_minor": 0
      },
      "text/plain": [
       "Downloading:   0%|          | 0.00/112 [00:00<?, ?B/s]"
      ]
     },
     "metadata": {},
     "output_type": "display_data"
    },
    {
     "data": {
      "application/vnd.jupyter.widget-view+json": {
       "model_id": "96f86511595844af8c5eca45f2ef5d4f",
       "version_major": 2,
       "version_minor": 0
      },
      "text/plain": [
       "Downloading:   0%|          | 0.00/466k [00:00<?, ?B/s]"
      ]
     },
     "metadata": {},
     "output_type": "display_data"
    },
    {
     "data": {
      "application/vnd.jupyter.widget-view+json": {
       "model_id": "fe30f8c4c7a543fca62fb6a45e920b72",
       "version_major": 2,
       "version_minor": 0
      },
      "text/plain": [
       "Downloading:   0%|          | 0.00/314 [00:00<?, ?B/s]"
      ]
     },
     "metadata": {},
     "output_type": "display_data"
    },
    {
     "data": {
      "application/vnd.jupyter.widget-view+json": {
       "model_id": "fd602d7bba6e4bee8e916c5781098fd5",
       "version_major": 2,
       "version_minor": 0
      },
      "text/plain": [
       "Downloading:   0%|          | 0.00/232k [00:00<?, ?B/s]"
      ]
     },
     "metadata": {},
     "output_type": "display_data"
    },
    {
     "data": {
      "application/vnd.jupyter.widget-view+json": {
       "model_id": "68465dba67b74752beda3ffb38050a27",
       "version_major": 2,
       "version_minor": 0
      },
      "text/plain": [
       "Downloading:   0%|          | 0.00/229 [00:00<?, ?B/s]"
      ]
     },
     "metadata": {},
     "output_type": "display_data"
    }
   ],
   "source": [
    "# takes a sentence-transformers model\n",
    "clf = SetFitClassifier(\"paraphrase-MiniLM-L3-v2\")"
   ]
  },
  {
   "cell_type": "code",
   "execution_count": 13,
   "id": "ae782394",
   "metadata": {},
   "outputs": [],
   "source": [
    "docs = df_train['title'].to_list()\n",
    "labels = df_train['cateogory_name'].to_list()"
   ]
  },
  {
   "cell_type": "markdown",
   "id": "c0b7da38",
   "metadata": {},
   "source": [
    "# Model Training"
   ]
  },
  {
   "cell_type": "code",
   "execution_count": 14,
   "id": "e4310f8d",
   "metadata": {},
   "outputs": [
    {
     "data": {
      "application/vnd.jupyter.widget-view+json": {
       "model_id": "4214063f3c1b4f1aa38b2a5efa6caf47",
       "version_major": 2,
       "version_minor": 0
      },
      "text/plain": [
       "Epoch:   0%|          | 0/1 [00:00<?, ?it/s]"
      ]
     },
     "metadata": {},
     "output_type": "display_data"
    },
    {
     "data": {
      "application/vnd.jupyter.widget-view+json": {
       "model_id": "06f9ffdcf74341a79f18104cd010fcbc",
       "version_major": 2,
       "version_minor": 0
      },
      "text/plain": [
       "Iteration:   0%|          | 0/20475 [00:00<?, ?it/s]"
      ]
     },
     "metadata": {},
     "output_type": "display_data"
    }
   ],
   "source": [
    "clf.fit(docs, labels)"
   ]
  },
  {
   "cell_type": "markdown",
   "id": "dc0f72d7",
   "metadata": {},
   "source": [
    "# Model Testing"
   ]
  },
  {
   "cell_type": "code",
   "execution_count": 15,
   "id": "e3c6d140",
   "metadata": {},
   "outputs": [],
   "source": [
    "df_test['predicted'] = clf.predict(df_test['title'].to_list())"
   ]
  },
  {
   "cell_type": "markdown",
   "id": "d5e8355d",
   "metadata": {},
   "source": [
    "# Metrics"
   ]
  },
  {
   "cell_type": "code",
   "execution_count": 16,
   "id": "0690b066",
   "metadata": {},
   "outputs": [
    {
     "data": {
      "text/plain": [
       "<sklearn.metrics._plot.confusion_matrix.ConfusionMatrixDisplay at 0x2a623f6a0>"
      ]
     },
     "execution_count": 16,
     "metadata": {},
     "output_type": "execute_result"
    },
    {
     "data": {
      "image/png": "[encoded data removed]",
      "text/plain": [
       "<Figure size 640x480 with 2 Axes>"
      ]
     },
     "metadata": {},
     "output_type": "display_data"
    }
   ],
   "source": [
    "from sklearn.metrics import confusion_matrix, ConfusionMatrixDisplay\n",
    "import matplotlib.pyplot as plt\n",
    "\n",
    "cm = confusion_matrix(df_test['cateogory_name'],\n",
    "                      df_test['predicted'])\n",
    "\n",
    "disp = ConfusionMatrixDisplay(confusion_matrix=cm)\n",
    "disp.plot()"
   ]
  },
  {
   "cell_type": "code",
   "execution_count": 18,
   "id": "a5f25994",
   "metadata": {},
   "outputs": [
    {
     "name": "stdout",
     "output_type": "stream",
     "text": [
      "                       precision    recall  f1-score   support\n",
      "\n",
      "     Autos & Vehicles       0.95      0.81      0.88        75\n",
      "               Comedy       0.84      0.88      0.86       709\n",
      "            Education       0.86      0.83      0.84       338\n",
      "        Entertainment       0.94      0.95      0.95      1945\n",
      "     Film & Animation       0.92      0.88      0.90       470\n",
      "               Gaming       0.97      0.97      0.97       157\n",
      "       How to & Style       0.95      0.96      0.96       828\n",
      "                Music       0.99      0.99      0.99      1280\n",
      "      News & Politics       0.92      0.94      0.93       511\n",
      "Nonprofits & Activism       1.00      0.92      0.96        12\n",
      "       People & Blogs       0.85      0.80      0.82       659\n",
      "       Pets & Animals       0.95      0.97      0.96       176\n",
      " Science & Technology       0.88      0.92      0.90       512\n",
      "                Shows       1.00      1.00      1.00         9\n",
      "               Sports       0.99      0.95      0.97       424\n",
      "      Travel & Events       0.93      0.88      0.90        85\n",
      "\n",
      "             accuracy                           0.93      8190\n",
      "            macro avg       0.93      0.92      0.92      8190\n",
      "         weighted avg       0.93      0.93      0.93      8190\n",
      "\n"
     ]
    }
   ],
   "source": [
    "from sklearn.metrics import confusion_matrix, classification_report\n",
    "\n",
    "print(classification_report(df_test[\"cateogory_name\"], \n",
    "                            df_test[\"predicted\"]))"
   ]
  },
  {
   "cell_type": "code",
   "execution_count": 19,
   "id": "08907cb0",
   "metadata": {},
   "outputs": [],
   "source": [
    "import pickle\n",
    "\n",
    "Pkl_Filename = \"Few_Shot_Classifer_Model.pkl\"  \n",
    "\n",
    "with open(Pkl_Filename, 'wb') as file:  \n",
    "    pickle.dump(clf, file)"
   ]
  },
  {
   "cell_type": "code",
   "execution_count": null,
   "id": "5d1127e8",
   "metadata": {},
   "outputs": [],
   "source": []
  }
 ],
 "metadata": {
  "kernelspec": {
   "display_name": "Python 3 (ipykernel)",
   "language": "python",
   "name": "python3"
  },
  "language_info": {
   "codemirror_mode": {
    "name": "ipython",
    "version": 3
   },
   "file_extension": ".py",
   "mimetype": "text/x-python",
   "name": "python",
   "nbconvert_exporter": "python",
   "pygments_lexer": "ipython3",
   "version": "3.9.13"
  }
 },
 "nbformat": 4,
 "nbformat_minor": 5
}
