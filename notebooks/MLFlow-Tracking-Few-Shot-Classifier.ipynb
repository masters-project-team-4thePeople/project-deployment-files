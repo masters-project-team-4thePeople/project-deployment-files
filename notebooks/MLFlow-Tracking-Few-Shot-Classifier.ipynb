{
 "cells": [
  {
   "cell_type": "markdown",
   "id": "fa24c47c",
   "metadata": {},
   "source": [
    "# MLFLow Setup"
   ]
  },
  {
   "cell_type": "code",
   "execution_count": 2,
   "id": "97f7ec13",
   "metadata": {},
   "outputs": [],
   "source": [
    "import mlflow \n",
    "import mlflow.sklearn\n",
    "\n",
    "experiment_name = \"experiment_few_shot\"\n",
    "\n",
    "if not mlflow.get_experiment_by_name(experiment_name):\n",
    "    mlflow.create_experiment(name=experiment_name) \n",
    "    \n",
    "mlflow.start_run() \n",
    "mlflow.autolog()"
   ]
  },
  {
   "cell_type": "markdown",
   "id": "02780856",
   "metadata": {},
   "source": [
    "# Importing libraries"
   ]
  },
  {
   "cell_type": "code",
   "execution_count": 4,
   "id": "e88a6195",
   "metadata": {},
   "outputs": [
    {
     "name": "stderr",
     "output_type": "stream",
     "text": [
      "2022/12/14 22:57:36 WARNING mlflow.utils.autologging_utils: You are using an unsupported version of sklearn. If you encounter errors during autologging, try upgrading / downgrading sklearn to a supported version, or try upgrading MLflow.\n",
      "2022/12/14 22:57:41 INFO mlflow.tracking.fluent: Autologging successfully enabled for sklearn.\n"
     ]
    }
   ],
   "source": [
    "import numpy as np \n",
    "import pandas as pd\n",
    "import matplotlib.pyplot as plt\n",
    "import seaborn as sns\n",
    "from tqdm import tqdm\n",
    "import json\n",
    "import re \n",
    "from random import shuffle\n",
    "from sklearn.model_selection import train_test_split\n",
    "\n",
    "import warnings\n",
    "warnings.filterwarnings(\"ignore\")"
   ]
  },
  {
   "cell_type": "code",
   "execution_count": 5,
   "id": "bada0f99",
   "metadata": {},
   "outputs": [],
   "source": [
    "video_dataset = pd.read_csv('USvideos.csv')"
   ]
  },
  {
   "cell_type": "code",
   "execution_count": 6,
   "id": "448ff211",
   "metadata": {},
   "outputs": [],
   "source": [
    "all_categories = {\n",
    "    \"1\":\"Film & Animation\",\n",
    "    \"2\":\"Autos & Vehicles\",\n",
    "    \"10\":\"Music\",\n",
    "    \"15\":\"Pets & Animals\",\n",
    "    \"17\":\"Sports\",\n",
    "    \"18\":\"Short Movies\",\n",
    "    \"19\":\"Travel & Events\",\n",
    "    \"20\":\"Gaming\",\n",
    "    \"21\":\"Videoblogging\",\n",
    "    \"22\":\"People & Blogs\",\n",
    "    \"23\":\"Comedy\",\n",
    "    \"24\":\"Entertainment\",\n",
    "    \"25\":\"News & Politics\",\n",
    "    \"26\":\"How to & Style\",\n",
    "    \"27\":\"Education\",\n",
    "    \"28\":\"Science & Technology\",\n",
    "    \"29\":\"Nonprofits & Activism\",\n",
    "    \"30\":\"Movies\",\n",
    "    \"31\":\"Anime/Animation\",\n",
    "    \"32\":\"Action/Adventure\",\n",
    "    \"33\":\"Classics\",\n",
    "    \"34\":\"Comedy\",\n",
    "    \"35\":\"Documentary\",\n",
    "    \"36\":\"Drama\",\n",
    "    \"37\":\"Family\",\n",
    "    \"38\":\"Foreign\",\n",
    "    \"39\":\"Horror\",\n",
    "    \"40\":\"Sci-Fi/Fantasy\",\n",
    "    \"41\":\"Thriller\",\n",
    "    \"42\":\"Shorts\",\n",
    "    \"43\":\"Shows\",\n",
    "    \"44\":\"Trailers\"\n",
    "  }"
   ]
  },
  {
   "cell_type": "code",
   "execution_count": 7,
   "id": "6f020c6f",
   "metadata": {},
   "outputs": [
    {
     "name": "stderr",
     "output_type": "stream",
     "text": [
      "100%|████████████████████████████████████████████████████████████████████████████████████████████████████████████████████| 40949/40949 [00:06<00:00, 5923.00it/s]\n"
     ]
    }
   ],
   "source": [
    "video_dataset[\"cateogory_name\"] = \"\"\n",
    " \n",
    "for index, row in tqdm(video_dataset.iterrows(), total=video_dataset.shape[0]):\n",
    "    cat_id = row['category_id']\n",
    "    cat_name = all_categories[str(cat_id)]\n",
    "    video_dataset.at[index,'cateogory_name'] = cat_name"
   ]
  },
  {
   "cell_type": "code",
   "execution_count": 8,
   "id": "11e6b16b",
   "metadata": {},
   "outputs": [],
   "source": [
    "relevant_columns = [\"video_id\", \"title\", \"description\", \"category_id\",\"cateogory_name\"]\n",
    "video_dataset = video_dataset[relevant_columns]"
   ]
  },
  {
   "cell_type": "code",
   "execution_count": 10,
   "id": "30c1bb8c",
   "metadata": {},
   "outputs": [],
   "source": [
    "RANDOM_SEED = 40\n",
    "df_train, df_test = train_test_split(video_dataset.head(500), \n",
    "                                     test_size=0.2, \n",
    "                                     random_state=RANDOM_SEED)"
   ]
  },
  {
   "cell_type": "markdown",
   "id": "42cd93f8",
   "metadata": {},
   "source": [
    "# Few Shot Learning with SetFit"
   ]
  },
  {
   "cell_type": "code",
   "execution_count": 11,
   "id": "017c552b",
   "metadata": {},
   "outputs": [
    {
     "name": "stderr",
     "output_type": "stream",
     "text": [
      "2022/12/14 22:59:01 INFO mlflow.tracking.fluent: Autologging successfully enabled for tensorflow.\n"
     ]
    }
   ],
   "source": [
    "from setfit import SetFitClassifier"
   ]
  },
  {
   "cell_type": "code",
   "execution_count": 12,
   "id": "577f805e",
   "metadata": {},
   "outputs": [],
   "source": [
    "# takes a sentence-transformers model\n",
    "clf = SetFitClassifier(\"paraphrase-MiniLM-L3-v2\")"
   ]
  },
  {
   "cell_type": "code",
   "execution_count": 13,
   "id": "a7741399",
   "metadata": {},
   "outputs": [],
   "source": [
    "docs = df_train['title'].to_list()\n",
    "labels = df_train['cateogory_name'].to_list()"
   ]
  },
  {
   "cell_type": "code",
   "execution_count": 14,
   "id": "599f4dce",
   "metadata": {},
   "outputs": [
    {
     "data": {
      "application/vnd.jupyter.widget-view+json": {
       "model_id": "3e758a879cc147a98ac625e100de9e4f",
       "version_major": 2,
       "version_minor": 0
      },
      "text/plain": [
       "Epoch:   0%|          | 0/1 [00:00<?, ?it/s]"
      ]
     },
     "metadata": {},
     "output_type": "display_data"
    },
    {
     "data": {
      "application/vnd.jupyter.widget-view+json": {
       "model_id": "8d145704646644dd8180dd2615717b59",
       "version_major": 2,
       "version_minor": 0
      },
      "text/plain": [
       "Iteration:   0%|          | 0/250 [00:00<?, ?it/s]"
      ]
     },
     "metadata": {},
     "output_type": "display_data"
    },
    {
     "name": "stdout",
     "output_type": "stream",
     "text": [
      "huggingface/tokenizers: The current process just got forked, after parallelism has already been used. Disabling parallelism to avoid deadlocks...\n",
      "To disable this warning, you can either:\n",
      "\t- Avoid using `tokenizers` before the fork if possible\n",
      "\t- Explicitly set the environment variable TOKENIZERS_PARALLELISM=(true | false)\n"
     ]
    }
   ],
   "source": [
    "clf.fit(docs, labels)"
   ]
  },
  {
   "cell_type": "code",
   "execution_count": 15,
   "id": "3c748afe",
   "metadata": {},
   "outputs": [],
   "source": [
    "df_test['predicted'] = clf.predict(df_test['title'].to_list())"
   ]
  },
  {
   "cell_type": "code",
   "execution_count": 16,
   "id": "8167eb2f",
   "metadata": {},
   "outputs": [
    {
     "data": {
      "text/plain": [
       "<sklearn.metrics._plot.confusion_matrix.ConfusionMatrixDisplay at 0x2df7a6790>"
      ]
     },
     "execution_count": 16,
     "metadata": {},
     "output_type": "execute_result"
    }
   ],
   "source": [
    "from sklearn.metrics import confusion_matrix, ConfusionMatrixDisplay\n",
    "import matplotlib.pyplot as plt\n",
    "\n",
    "cm = confusion_matrix(df_test['cateogory_name'],\n",
    "                      df_test['predicted'])\n",
    "\n",
    "disp = ConfusionMatrixDisplay(confusion_matrix=cm)\n",
    "disp.plot()"
   ]
  },
  {
   "cell_type": "code",
   "execution_count": 17,
   "id": "6368dba6",
   "metadata": {},
   "outputs": [
    {
     "name": "stdout",
     "output_type": "stream",
     "text": [
      "                      precision    recall  f1-score   support\n",
      "\n",
      "    Autos & Vehicles       1.00      0.50      0.67         2\n",
      "              Comedy       0.80      0.67      0.73         6\n",
      "           Education       1.00      0.25      0.40         4\n",
      "       Entertainment       0.53      0.71      0.61        24\n",
      "    Film & Animation       1.00      0.75      0.86         4\n",
      "      How to & Style       0.67      0.50      0.57         8\n",
      "               Music       0.86      0.90      0.88        20\n",
      "     News & Politics       0.67      1.00      0.80         2\n",
      "      People & Blogs       0.50      0.40      0.44        10\n",
      "      Pets & Animals       1.00      1.00      1.00         4\n",
      "Science & Technology       1.00      0.80      0.89         5\n",
      "              Sports       0.73      0.80      0.76        10\n",
      "     Travel & Events       1.00      1.00      1.00         1\n",
      "\n",
      "            accuracy                           0.71       100\n",
      "           macro avg       0.83      0.71      0.74       100\n",
      "        weighted avg       0.74      0.71      0.71       100\n",
      "\n"
     ]
    }
   ],
   "source": [
    "from sklearn.metrics import confusion_matrix, classification_report\n",
    "\n",
    "print(classification_report(df_test[\"cateogory_name\"], \n",
    "                            df_test[\"predicted\"]))"
   ]
  },
  {
   "cell_type": "code",
   "execution_count": 18,
   "id": "9c36cf85",
   "metadata": {},
   "outputs": [],
   "source": [
    "mlflow.end_run()"
   ]
  },
  {
   "cell_type": "code",
   "execution_count": null,
   "id": "57f1e54b",
   "metadata": {},
   "outputs": [],
   "source": []
  }
 ],
 "metadata": {
  "kernelspec": {
   "display_name": "Python 3 (ipykernel)",
   "language": "python",
   "name": "python3"
  },
  "language_info": {
   "codemirror_mode": {
    "name": "ipython",
    "version": 3
   },
   "file_extension": ".py",
   "mimetype": "text/x-python",
   "name": "python",
   "nbconvert_exporter": "python",
   "pygments_lexer": "ipython3",
   "version": "3.9.13"
  }
 },
 "nbformat": 4,
 "nbformat_minor": 5
}
