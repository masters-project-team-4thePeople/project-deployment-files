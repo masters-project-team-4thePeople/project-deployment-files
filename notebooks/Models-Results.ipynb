{
 "cells": [
  {
   "cell_type": "code",
   "execution_count": 1,
   "id": "7d4ce5bf",
   "metadata": {},
   "outputs": [],
   "source": [
    "from sklearn.metrics import confusion_matrix, classification_report\n",
    "import pandas as pd\n",
    "import warnings\n",
    "warnings.filterwarnings(\"ignore\")"
   ]
  },
  {
   "cell_type": "markdown",
   "id": "7d73740b",
   "metadata": {},
   "source": [
    "# Zero Shot Learning Model Performace Results"
   ]
  },
  {
   "cell_type": "code",
   "execution_count": 2,
   "id": "4291cf26",
   "metadata": {},
   "outputs": [],
   "source": [
    "zero_shot_results = pd.read_csv(\"Results.csv\")"
   ]
  },
  {
   "cell_type": "code",
   "execution_count": 3,
   "id": "e6dd9e15",
   "metadata": {},
   "outputs": [
    {
     "data": {
      "text/html": [
       "<div>\n",
       "<style scoped>\n",
       "    .dataframe tbody tr th:only-of-type {\n",
       "        vertical-align: middle;\n",
       "    }\n",
       "\n",
       "    .dataframe tbody tr th {\n",
       "        vertical-align: top;\n",
       "    }\n",
       "\n",
       "    .dataframe thead th {\n",
       "        text-align: right;\n",
       "    }\n",
       "</style>\n",
       "<table border=\"1\" class=\"dataframe\">\n",
       "  <thead>\n",
       "    <tr style=\"text-align: right;\">\n",
       "      <th></th>\n",
       "      <th>actuals</th>\n",
       "      <th>predictions</th>\n",
       "    </tr>\n",
       "  </thead>\n",
       "  <tbody>\n",
       "    <tr>\n",
       "      <th>0</th>\n",
       "      <td>Nonprofits &amp; Activism</td>\n",
       "      <td>Horror</td>\n",
       "    </tr>\n",
       "    <tr>\n",
       "      <th>1</th>\n",
       "      <td>Shows</td>\n",
       "      <td>Shows</td>\n",
       "    </tr>\n",
       "    <tr>\n",
       "      <th>2</th>\n",
       "      <td>News &amp; Politics</td>\n",
       "      <td>Action/Adventure</td>\n",
       "    </tr>\n",
       "    <tr>\n",
       "      <th>3</th>\n",
       "      <td>People &amp; Blogs</td>\n",
       "      <td>Family</td>\n",
       "    </tr>\n",
       "    <tr>\n",
       "      <th>4</th>\n",
       "      <td>Music</td>\n",
       "      <td>Music</td>\n",
       "    </tr>\n",
       "  </tbody>\n",
       "</table>\n",
       "</div>"
      ],
      "text/plain": [
       "                 actuals       predictions\n",
       "0  Nonprofits & Activism            Horror\n",
       "1                  Shows             Shows\n",
       "2        News & Politics  Action/Adventure\n",
       "3         People & Blogs            Family\n",
       "4                  Music             Music"
      ]
     },
     "execution_count": 3,
     "metadata": {},
     "output_type": "execute_result"
    }
   ],
   "source": [
    "zero_shot_results.head()"
   ]
  },
  {
   "cell_type": "code",
   "execution_count": 4,
   "id": "b99d8cd8",
   "metadata": {},
   "outputs": [
    {
     "name": "stdout",
     "output_type": "stream",
     "text": [
      "                       precision    recall  f1-score   support\n",
      "\n",
      "     Action/Adventure       0.00      0.00      0.00         0\n",
      "      Anime/Animation       0.00      0.00      0.00         0\n",
      "     Autos & Vehicles       0.75      0.38      0.50       100\n",
      "             Classics       0.00      0.00      0.00         0\n",
      "               Comedy       0.42      0.10      0.16       100\n",
      "          Documentary       0.00      0.00      0.00         0\n",
      "                Drama       0.00      0.00      0.00         0\n",
      "            Education       0.00      0.00      0.00       100\n",
      "        Entertainment       0.12      0.21      0.15       100\n",
      "               Family       0.00      0.00      0.00         0\n",
      "     Film & Animation       0.42      0.05      0.09       100\n",
      "              Foreign       0.00      0.00      0.00         0\n",
      "               Gaming       0.49      0.51      0.50       100\n",
      "               Horror       0.00      0.00      0.00         0\n",
      "       How to & Style       0.14      0.01      0.02       100\n",
      "               Movies       0.00      0.00      0.00         0\n",
      "                Music       0.62      0.77      0.69       100\n",
      "      News & Politics       1.00      0.11      0.20       100\n",
      "Nonprofits & Activism       0.00      0.00      0.00        57\n",
      "       People & Blogs       0.00      0.00      0.00       100\n",
      "       Pets & Animals       0.86      0.42      0.56       100\n",
      "       Sci-Fi/Fantasy       0.00      0.00      0.00         0\n",
      " Science & Technology       0.34      0.19      0.24       100\n",
      "               Shorts       0.00      0.00      0.00         0\n",
      "                Shows       0.05      0.19      0.08        57\n",
      "               Sports       0.59      0.67      0.63       100\n",
      "             Trailers       0.00      0.00      0.00         0\n",
      "      Travel & Events       0.63      0.12      0.20       100\n",
      "        Videoblogging       0.00      0.00      0.00         0\n",
      "\n",
      "             accuracy                           0.24      1514\n",
      "            macro avg       0.22      0.13      0.14      1514\n",
      "         weighted avg       0.42      0.24      0.26      1514\n",
      "\n"
     ]
    }
   ],
   "source": [
    "print(classification_report(zero_shot_results[\"actuals\"], \n",
    "                            zero_shot_results[\"predictions\"]))"
   ]
  }
 ],
 "metadata": {
  "kernelspec": {
   "display_name": "Python 3 (ipykernel)",
   "language": "python",
   "name": "python3"
  },
  "language_info": {
   "codemirror_mode": {
    "name": "ipython",
    "version": 3
   },
   "file_extension": ".py",
   "mimetype": "text/x-python",
   "name": "python",
   "nbconvert_exporter": "python",
   "pygments_lexer": "ipython3",
   "version": "3.9.13"
  }
 },
 "nbformat": 4,
 "nbformat_minor": 5
}
